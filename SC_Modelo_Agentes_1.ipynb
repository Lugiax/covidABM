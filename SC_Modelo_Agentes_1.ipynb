{
  "nbformat": 4,
  "nbformat_minor": 0,
  "metadata": {
    "colab": {
      "name": "SC Modelo Agentes 1.ipynb",
      "provenance": [],
      "collapsed_sections": [],
      "authorship_tag": "ABX9TyO1avvZAvmapqEOYspTDTIN"
    },
    "kernelspec": {
      "name": "python3",
      "display_name": "Python 3"
    }
  },
  "cells": [
    {
      "cell_type": "code",
      "metadata": {
        "id": "N7KMPykVYjee",
        "colab_type": "code",
        "colab": {}
      },
      "source": [
        " # !pip3 install mesa"
      ],
      "execution_count": 0,
      "outputs": []
    },
    {
      "cell_type": "code",
      "metadata": {
        "id": "aMnBQ2AnYPeg",
        "colab_type": "code",
        "colab": {}
      },
      "source": [
        "import numpy as np\n",
        "import matplotlib.pyplot as plt\n",
        "from mesa import Agent, Model\n",
        "from mesa.time import RandomActivation\n",
        "from mesa.space import MultiGrid\n",
        "from mesa.datacollection import DataCollector"
      ],
      "execution_count": 0,
      "outputs": []
    },
    {
      "cell_type": "code",
      "metadata": {
        "id": "KTfKx8WXV3VW",
        "colab_type": "code",
        "colab": {}
      },
      "source": [
        "class Modelo_1(Model):\n",
        "    SEIR_susceptible=0\n",
        "    SEIR_exposed=1\n",
        "    SEIR_infected=2\n",
        "    SEIR_recovered=3\n",
        "    SEIR_death=4\n",
        "    SEIR_immune=5\n",
        "\n",
        "    Incubation_period_days=10\n",
        "    stepsDay_coeffi= 12\n",
        "\n",
        "    Infection_days_remain_default= 14 # (d)\n",
        "    reproduction_number_default= 16 # (R0 from reference)\n",
        "    Transmission_probability_per_contact_default=0.5\n",
        "    Average_death_rate_default=0.02\n",
        "\n",
        "    def __init__(self, N, width, height,inf_n):\n",
        "        if inf_n > N:\n",
        "          inf_n=N\n",
        "        self.num_agents = N\n",
        "        self.num_agents_inf = inf_n\n",
        "        self.grid = MultiGrid(width, height, True)\n",
        "        self.schedule = RandomActivation(self)\n",
        "\n",
        "        for i in range(self.num_agents_inf):\n",
        "          a = Agente(i,1, self)\n",
        "          self.schedule.add(a)\n",
        "          x = self.random.randrange(self.grid.width)\n",
        "          y = self.random.randrange(self.grid.height)\n",
        "          self.grid.place_agent(a, (x, y))\n",
        "\n",
        "        for i in range(self.num_agents_inf,self.num_agents,1):\n",
        "          a = Agente(i,0, self)\n",
        "          self.schedule.add(a)\n",
        "          x = self.random.randrange(self.grid.width)\n",
        "          y = self.random.randrange(self.grid.height)\n",
        "          self.grid.place_agent(a, (x, y))\n",
        "\n",
        "    def step(self):\n",
        "        self.schedule.step()\n",
        "        \n",
        "class Agente(Agent):\n",
        "    def __init__(self, unique_id,infected,model):\n",
        "        super().__init__(unique_id, model)\n",
        "        self.inf_days_remain_default = model.Infection_days_remain_default # (d)\n",
        "        self.wealth = 1\n",
        "        self.infection_probability = model.Transmission_probability_per_contact_default # (p)\n",
        "        self.Age = self.random.randrange(100)\n",
        "        self.gender = np.round(self.random.randrange(1))\n",
        "        self.r0 = 0\n",
        "        self.contacts_average = 0  # (c)\n",
        "        self.infected = infected\n",
        "        if self.infected:\n",
        "          self.inf_days_remain = self.inf_days_remain_default\n",
        "          self.SEIR_state = model.SEIR_infected\n",
        "        else:\n",
        "          self.inf_days_remain = 0\n",
        "          self.SEIR_state = model.SEIR_susceptible\n",
        "\n",
        "    def move(self):\n",
        "        possible_steps = self.model.grid.get_neighborhood(\n",
        "            self.pos,\n",
        "            moore=True,\n",
        "            include_center=False)\n",
        "        new_position = self.random.choice(possible_steps)\n",
        "        self.model.grid.move_agent(self, new_position)\n",
        "\n",
        "    def interaction(self):\n",
        "        cellmates = self.model.grid.get_cell_list_contents([self.pos])\n",
        "        cellmates_r0 = [i.r0 for i in cellmates]\n",
        "        sum1=sum(cellmates_r0)\n",
        "        self.r0=sum1/len(cellmates_r0)\n",
        "        if sum1 > 0:\n",
        "          self.SEIR_state = model.SEIR_exposed\n",
        "        if self.r0 < self.random.randrange(2):\n",
        "          self.infected = 1\n",
        "          self.inf_days_remain = self.inf_days_remain_default\n",
        "          self.SEIR_state = model.SEIR_infected\n",
        "        self.contacts_average = (sum1+self.contacts_average)/2\n",
        "\n",
        "    def step(self):\n",
        "        self.move()\n",
        "        if self.wealth > 0 and not self.infected:\n",
        "            self.interaction()\n",
        "        elif self.inf_days_remain > 0:\n",
        "          self.inf_days_remain -= self.inf_days_remain\n",
        "        elif self.inf_days_remain == 0 and self.infected:\n",
        "          self.infected=0\n",
        "          self.SEIR_state = model.SEIR_recovered"
      ],
      "execution_count": 0,
      "outputs": []
    },
    {
      "cell_type": "code",
      "metadata": {
        "id": "Trq5Sxg7psli",
        "colab_type": "code",
        "colab": {}
      },
      "source": [
        "model = Modelo_1(100, 10, 10,1)\n",
        "for i in range(2):\n",
        "    model.step()"
      ],
      "execution_count": 0,
      "outputs": []
    },
    {
      "cell_type": "code",
      "metadata": {
        "id": "o84_38HXufFv",
        "colab_type": "code",
        "outputId": "67f28b59-60c2-45b1-b470-c6d79eb200f0",
        "colab": {
          "base_uri": "https://localhost:8080/",
          "height": 286
        }
      },
      "source": [
        "agent_counts = np.zeros((model.grid.width, model.grid.height))\n",
        "for cell in model.grid.coord_iter():\n",
        "    cell_content, x, y = cell\n",
        "    agent_count = len(cell_content)\n",
        "    agent_counts[x][y] = agent_count\n",
        "plt.imshow(agent_counts, interpolation='nearest')\n",
        "plt.colorbar()"
      ],
      "execution_count": 14,
      "outputs": [
        {
          "output_type": "execute_result",
          "data": {
            "text/plain": [
              "<matplotlib.colorbar.Colorbar at 0x7fbe9fb783c8>"
            ]
          },
          "metadata": {
            "tags": []
          },
          "execution_count": 14
        },
        {
          "output_type": "display_data",
          "data": {
            "image/png": "[encoded data removed]",
            "text/plain": [
              "<Figure size 432x288 with 2 Axes>"
            ]
          },
          "metadata": {
            "tags": []
          }
        }
      ]
    },
    {
      "cell_type": "code",
      "metadata": {
        "id": "ymCKTPT1S-WB",
        "colab_type": "code",
        "colab": {
          "base_uri": "https://localhost:8080/",
          "height": 286
        },
        "outputId": "ac69089e-fa83-4ff5-8c4b-1a40c8aa9217"
      },
      "source": [
        "agent_counts = np.zeros((model.grid.width, model.grid.height))\n",
        "for cell in model.grid.coord_iter():\n",
        "    cell_content, x, y = cell\n",
        "    agent_count = len(cell_content)\n",
        "    agent_counts[x][y] = agent_count\n",
        "plt.imshow(agent_counts, interpolation='nearest')\n",
        "plt.colorbar()"
      ],
      "execution_count": 15,
      "outputs": [
        {
          "output_type": "execute_result",
          "data": {
            "text/plain": [
              "<matplotlib.colorbar.Colorbar at 0x7fbe9fb12ba8>"
            ]
          },
          "metadata": {
            "tags": []
          },
          "execution_count": 15
        },
        {
          "output_type": "display_data",
          "data": {
            "image/png": "[encoded data removed]",
            "text/plain": [
              "<Figure size 432x288 with 2 Axes>"
            ]
          },
          "metadata": {
            "tags": []
          }
        }
      ]
    }
  ]
}